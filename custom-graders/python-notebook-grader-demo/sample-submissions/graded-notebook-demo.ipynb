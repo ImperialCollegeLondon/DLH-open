{
 "cells": [
  {
   "cell_type": "markdown",
   "metadata": {},
   "source": [
    "# Graded Notebook Demo\n",
    "\n",
    "This notebook is designed to be used with `python-notebook-grader-demo`. It provides an example of a graded notebook and features some guidance for helping you write an graded notebook.\n",
    "\n",
    "This version is an example of a learner's submission. It features correctly completed graded cells, but using a different method than the model version. The autograder, in its default form, checks only the output of the functions, so these different but correct answers are marked as correct. \n",
    "\n",
    "The notebook has three noteable features:\n",
    "- It features a `# PACKAGE` cell, which imports packages required for the graded function to work\n",
    "- It contains 2 `# GRADED` cells, which the autograder must grade appropriately\n",
    "- It imports an external python file, contained within the `readonly` folder, which the autograder must also have access to\n",
    "\n",
    "The autograder takes a notebook file and converts it into a `.py` file containing functions defined in the notebook. In order to know which cells to capture, the cells must be labelled in the first line by a `package_id` or a `graded_id`. These are explained in more detail below."
   ]
  },
  {
   "cell_type": "markdown",
   "metadata": {},
   "source": [
    "## Package cells\n",
    "\n",
    "First we import packages which are essential to the computation of the graded cells. This cell must be labelled with a `package_id` on its first line for the autograder to see it. By default, `package_id = \"# PACKAGE\"`.\n",
    "\n",
    "This cell also imports the functions from `test.py` under the `readonly` folder. This folder and files need to also be included in the `solution` and `submission` folder in order for the autograder to have access to them."
   ]
  },
  {
   "cell_type": "code",
   "execution_count": 67,
   "metadata": {},
   "outputs": [],
   "source": [
    "# PACKAGE CELL\n",
    "import numpy as np\n",
    "from numpy import pi\n",
    "from readonly.helper_function import is_pos_int"
   ]
  },
  {
   "cell_type": "markdown",
   "metadata": {},
   "source": [
    "Packages can be imported within package cells or graded cells. Package cells provides some flexibility, for example if you wish to use the packages before introducing the graded cells."
   ]
  },
  {
   "cell_type": "markdown",
   "metadata": {},
   "source": [
    "## Graded cells\n",
    "\n",
    "Here we include 2 graded cells for a hypothetical learner to complete. When constructing a notebook you will first need to create a model version in which the graded functions are completed. The autograder will compare the outputs of these model functions with those written by the learner.\n",
    "\n",
    "Make sure to make clear to the learner that they should not change the name of the function or the `graded_id` tag. Highlight the area of the function you would like them to complete, for example using `### WRITE YOUR CODE HERE`.\n",
    "\n",
    "A description for the following graded cell might look something like,\n",
    "\n",
    "\"Complete the definition of the following function, `factors(n)`, so that it takes a positive integer `n` and returns a list which contains all of its factors, including `1` and `n`. The function `is_pos_int` returns `True` if `n` is a positive integer, and `False` otherwise. If `n` is not a positive integer, return an empty list.\n",
    "\n",
    "Don't change anything outside the indicate region, as the autograder uses this information to work.\"\n",
    "\n",
    "Graded cells must be marked with a `graded_id` on their first lines. By default, `graded_id = \"# GRADED\"`:"
   ]
  },
  {
   "cell_type": "code",
   "execution_count": 85,
   "metadata": {},
   "outputs": [],
   "source": [
    "# GRADED FUNCTION: factors\n",
    "\n",
    "def factors(n):\n",
    "    \n",
    "    factors_list = []\n",
    "        \n",
    "    if is_pos_int(n):\n",
    "    ### WRITE YOUR CODE HERE\n",
    "        for i in range(1,n+1):\n",
    "            if n%i == 0:\n",
    "                factors_list.append(i)\n",
    "\n",
    "    return factors_list"
   ]
  },
  {
   "cell_type": "markdown",
   "metadata": {},
   "source": [
    "Unlabelled cells, such as the following, will not be assessed by the autograder."
   ]
  },
  {
   "cell_type": "code",
   "execution_count": 86,
   "metadata": {},
   "outputs": [
    {
     "data": {
      "text/plain": [
       "[1, 2, 1151, 2302]"
      ]
     },
     "execution_count": 86,
     "metadata": {},
     "output_type": "execute_result"
    }
   ],
   "source": [
    "factors(2302)"
   ]
  },
  {
   "cell_type": "code",
   "execution_count": 90,
   "metadata": {},
   "outputs": [
    {
     "data": {
      "text/plain": [
       "[]"
      ]
     },
     "execution_count": 90,
     "metadata": {},
     "output_type": "execute_result"
    }
   ],
   "source": [
    "factors('a string')"
   ]
  },
  {
   "cell_type": "markdown",
   "metadata": {},
   "source": [
    "Here's another unrelated graded function cell that makes use of numpy to output a rotation matrix\n",
    "\n",
    "\"Recall that, in two dimensions, a (counter-clockwise) rotation matrix is given by the following,\n",
    "\n",
    "$$R = \\begin{pmatrix}\\cos\\theta & -\\sin\\theta \\\\ \\sin\\theta & \\cos\\theta \\end{pmatrix}.$$\n",
    "\n",
    "Using `numpy`, imported as `np`, assign values of `c` and `s` so that the function `rotation_matrix` returns a two dimensional rotation matrix for a `theta` radians counter-clockwise rotation.\" "
   ]
  },
  {
   "cell_type": "code",
   "execution_count": 70,
   "metadata": {},
   "outputs": [],
   "source": [
    "# GRADED FUNCTION: rotation_matrix\n",
    "\n",
    "def rotation_matrix(theta):\n",
    "    \n",
    "    ### Complete the definitions of c and s here\n",
    "    c = -np.cos(theta + pi)\n",
    "    s = np.sin(theta + 2*pi) \n",
    "    \n",
    "    return np.array(((c,-s),(s,c)))"
   ]
  },
  {
   "cell_type": "markdown",
   "metadata": {},
   "source": [
    "\"Test your function below\""
   ]
  },
  {
   "cell_type": "code",
   "execution_count": 73,
   "metadata": {},
   "outputs": [
    {
     "name": "stdout",
     "output_type": "stream",
     "text": [
      "[[ 0.5       -0.8660254]\n",
      " [ 0.8660254  0.5      ]]\n"
     ]
    }
   ],
   "source": [
    "print(rotation_matrix(pi/3))"
   ]
  },
  {
   "cell_type": "markdown",
   "metadata": {},
   "source": [
    "## Next steps\n",
    "\n",
    "Once you've completed your model notebook, you can create a learner version by removing the code between your learner code markers. A copy of the model notebook should be saved under the `model-submission` folder in the autograder directory. You can generate a `solutions.py` file by running `python make-submission.py` in the command line, as long as the last line of `make-submission.py` is uncommented."
   ]
  }
 ],
 "metadata": {
  "kernelspec": {
   "display_name": "Python 3",
   "language": "python",
   "name": "python3"
  },
  "language_info": {
   "codemirror_mode": {
    "name": "ipython",
    "version": 3
   },
   "file_extension": ".py",
   "mimetype": "text/x-python",
   "name": "python",
   "nbconvert_exporter": "python",
   "pygments_lexer": "ipython3",
   "version": "3.7.6"
  }
 },
 "nbformat": 4,
 "nbformat_minor": 4
}